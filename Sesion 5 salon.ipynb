{
 "cells": [
  {
   "cell_type": "code",
   "execution_count": 1,
   "metadata": {},
   "outputs": [],
   "source": [
    "import matplotlib.pyplot as plt\n",
    "%matplotlib inline\n",
    "import numpy as np"
   ]
  },
  {
   "cell_type": "markdown",
   "metadata": {},
   "source": [
    "Se tienen las desigualdades\n",
    "$$50x_1 + 24x_2\\leq 2400$$\n",
    "$$30x_1 + 33x_2\\leq 2100$$"
   ]
  },
  {
   "cell_type": "markdown",
   "metadata": {},
   "source": [
    "El despeje entonces como:"
   ]
  },
  {
   "cell_type": "markdown",
   "metadata": {},
   "source": [
    "$$x_2 = \\frac{2400 - 50x_1}{24} $$\n",
    "$$x_2 = \\frac{2100 - 30x_1}{33} $$"
   ]
  },
  {
   "cell_type": "code",
   "execution_count": 3,
   "metadata": {},
   "outputs": [],
   "source": [
    "def x2_v1(x1):\n",
    "    return (2400 - 50*x1)/24  # de la maquina A\n",
    "def x2_v2(x1):\n",
    "    return (2100 - 30*x1)/33  # de la maquina B"
   ]
  },
  {
   "cell_type": "code",
   "execution_count": 9,
   "metadata": {},
   "outputs": [],
   "source": [
    "x1 = np.linspace(0, 100)"
   ]
  },
  {
   "cell_type": "code",
   "execution_count": 48,
   "metadata": {},
   "outputs": [
    {
     "data": {
      "image/png": "[encoded data removed]",
      "text/plain": [
       "<Figure size 432x288 with 1 Axes>"
      ]
     },
     "metadata": {},
     "output_type": "display_data"
    }
   ],
   "source": [
    "plt.plot(x1, x2_v1(x1), 'magenta') #desigualdad 1\n",
    "plt.plot(x1, x2_v2(x1)) # desigualdad 2\n",
    "plt.plot([45, 45], [0, 25], 'k')\n",
    "plt.scatter([45, 45], [0, 25], s = 200, color = \"red\")\n",
    "plt.plot([43, 47], [5, 5], 'r')\n",
    "plt.scatter([43, 47], [5, 5], s = 200, color = \"red\")\n",
    "plt.xlim(xmin = 44, xmax = 46)\n",
    "plt.ylim(ymin = 4, ymax = 8)\n",
    "plt.scatter([45], [6.25], color = 'red')\n",
    "plt.scatter([45], [5], color = 'red')\n",
    "plt.scatter([45.6], [5], color = 'red')\n",
    "plt.fill_between(np.array([45, 45.6]), x2_v1(np.array([45, 45.6])),\n",
    "                5*np.ones(2), alpha = .2, color = 'orange')\n",
    "plt.xlabel(r\"$x_1$\", fontsize = 18)\n",
    "plt.ylabel(r\"$x_2$\", fontsize = 18)\n",
    "plt.show()"
   ]
  },
  {
   "cell_type": "markdown",
   "metadata": {},
   "source": [
    "Ya tenemos un punto posible para la solución, $(45,5)$. Los otros son $(45.6, 5)$ y $(45, 6.25)$"
   ]
  },
  {
   "cell_type": "code",
   "execution_count": 49,
   "metadata": {},
   "outputs": [],
   "source": [
    "import scipy.optimize as opt"
   ]
  },
  {
   "cell_type": "code",
   "execution_count": 61,
   "metadata": {},
   "outputs": [],
   "source": [
    "c = np.array([-1, -1]) # min(-x1 - x2)\n",
    "A = np.array([[50, 24], [30, 33]]) \n",
    "b = np.array([2400, 2100])\n",
    "x1_bound = (45, None)\n",
    "x2_bound = (5, None)"
   ]
  },
  {
   "cell_type": "code",
   "execution_count": 62,
   "metadata": {},
   "outputs": [
    {
     "data": {
      "text/plain": [
       "array([[50, 24],\n",
       "       [30, 33]])"
      ]
     },
     "execution_count": 62,
     "metadata": {},
     "output_type": "execute_result"
    }
   ],
   "source": [
    "A"
   ]
  },
  {
   "cell_type": "markdown",
   "metadata": {},
   "source": [
    "$$50x_1 + 24x_2\\leq 2400$$\n",
    "$$30x_1 + 33x_2\\leq 2100$$"
   ]
  },
  {
   "cell_type": "code",
   "execution_count": 64,
   "metadata": {},
   "outputs": [
    {
     "name": "stdout",
     "output_type": "stream",
     "text": [
      "Optimization terminated successfully.\n",
      "         Current function value: -51.250000  \n",
      "         Iterations: 4\n"
     ]
    }
   ],
   "source": [
    "res = opt.linprog(c, A_ub=A, b_ub=b, bounds=(x1_bound, x2_bound), options={'disp': True})"
   ]
  },
  {
   "cell_type": "code",
   "execution_count": 65,
   "metadata": {},
   "outputs": [
    {
     "data": {
      "text/plain": [
       "     fun: -51.25\n",
       " message: 'Optimization terminated successfully.'\n",
       "     nit: 4\n",
       "   slack: array([  0.  , 543.75,   0.  ,   1.25])\n",
       "  status: 0\n",
       " success: True\n",
       "       x: array([45.  ,  6.25])"
      ]
     },
     "execution_count": 65,
     "metadata": {},
     "output_type": "execute_result"
    }
   ],
   "source": [
    "res"
   ]
  },
  {
   "cell_type": "markdown",
   "metadata": {},
   "source": [
    "En inventario teniamos 90 de $x_2$ y 30 de $x_1$"
   ]
  },
  {
   "cell_type": "code",
   "execution_count": null,
   "metadata": {},
   "outputs": [],
   "source": []
  }
 ],
 "metadata": {
  "kernelspec": {
   "display_name": "Python 3",
   "language": "python",
   "name": "python3"
  },
  "language_info": {
   "codemirror_mode": {
    "name": "ipython",
    "version": 3
   },
   "file_extension": ".py",
   "mimetype": "text/x-python",
   "name": "python",
   "nbconvert_exporter": "python",
   "pygments_lexer": "ipython3",
   "version": "3.6.5"
  }
 },
 "nbformat": 4,
 "nbformat_minor": 2
}
